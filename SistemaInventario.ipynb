{
 "cells": [
  {
   "cell_type": "code",
   "execution_count": 12,
   "metadata": {},
   "outputs": [
    {
     "name": "stdout",
     "output_type": "stream",
     "text": [
      "Bienvenido al sistema de inventarios \n",
      "1. Agregar producto al inventario \n",
      "2. Modificar cantidad del producto del inventario \n",
      "3. Eliminar producto del inventario \n",
      "4. Mostrar el inventario \n",
      "0. Salir del sistema\n",
      "Producto: hola | Cantidad: 20\n",
      "Producto: mundo | Cantidad: 30\n",
      "Producto: mundo | Cantidad: 30\n",
      "Producto: mundo | Cantidad: 30\n",
      "Producto: mundo | Cantidad: 30\n",
      "No selecciono ninguna opcion valida\n"
     ]
    }
   ],
   "source": [
    "#Gestion de inventario\n",
    "inventario = {}\n",
    "\n",
    "def agregar_prductos ():\n",
    "    nombre = input(\"Ingrese el nombre del nuevo producto del inventario: \")\n",
    "    cantidad = int(input(\"Ingrese la cantidad del producto nuevo: \"))\n",
    "    inventario[nombre]=cantidad\n",
    "\n",
    "def actualizar_cantidades ():\n",
    "    producto = input(\"Ingrese el nombre del producto que quiere modificar la cantidad: \")\n",
    "    nueva_cantidad = int(input(\"Ingrese la nueva cantidad del producto: \"))\n",
    "    if producto in inventario:\n",
    "        inventario[producto] = nueva_cantidad\n",
    "    else:\n",
    "        print(f\"El producto '{producto}' no se encuentra en el inventario.\")\n",
    "\n",
    "def eliminar_producto ():\n",
    "    producto_eliminar = input(\"Ingrese el nombre del producto que quiere eliminar: \")\n",
    "    if producto_eliminar in inventario:\n",
    "        del inventario[producto_eliminar]\n",
    "    else:\n",
    "        print(f\"El producto '{producto_eliminar}' no se encuentra en el inventario\")\n",
    "\n",
    "def mostrar_inventario():\n",
    "    if not inventario:\n",
    "        print(\"El inventario está vacío.\")\n",
    "    else:\n",
    "        for nombre, cantidad in inventario.items():\n",
    "            print(\"Producto: \" + nombre + \" | Cantidad: \" + str(cantidad))\n",
    "\n",
    "print(\"Bienvenido al sistema de inventarios\",\n",
    "      \"\\n1. Agregar producto al inventario\",\n",
    "      \"\\n2. Modificar cantidad del producto del inventario\",\n",
    "      \"\\n3. Eliminar producto del inventario\",\n",
    "      \"\\n4. Mostrar el inventario\",\n",
    "      \"\\n0. Salir del sistema\")\n",
    "seguir = 1\n",
    "\n",
    "while seguir != 0:\n",
    "    try:\n",
    "        seguir = int(input(\"\\nIngrese la opcion que desea realizar en el sistema: \"))\n",
    "        if seguir == 1:\n",
    "            agregar_prductos()\n",
    "        elif seguir == 2:\n",
    "            actualizar_cantidades()\n",
    "        elif seguir == 3:\n",
    "            eliminar_producto()\n",
    "        elif seguir == 4:\n",
    "            mostrar_inventario()\n",
    "        elif seguir == 0:\n",
    "            print(\"Gracias por usar el sistema de inventarios\")\n",
    "        else:\n",
    "            print(\"No selecciono ninguna opcion valida\")\n",
    "    except ValueError:\n",
    "        print(\"Debe ingresar una opcion numerica\")\n",
    "\n",
    "\n"
   ]
  }
 ],
 "metadata": {
  "kernelspec": {
   "display_name": "Python 3",
   "language": "python",
   "name": "python3"
  },
  "language_info": {
   "codemirror_mode": {
    "name": "ipython",
    "version": 3
   },
   "file_extension": ".py",
   "mimetype": "text/x-python",
   "name": "python",
   "nbconvert_exporter": "python",
   "pygments_lexer": "ipython3",
   "version": "3.11.5"
  }
 },
 "nbformat": 4,
 "nbformat_minor": 2
}
